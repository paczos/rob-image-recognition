{
 "cells": [
  {
   "cell_type": "markdown",
   "metadata": {},
   "source": [
    "# Eliminacja wartości odstających"
   ]
  },
  {
   "cell_type": "code",
   "execution_count": 55,
   "metadata": {
    "scrolled": true
   },
   "outputs": [
    {
     "name": "stdout",
     "output_type": "stream",
     "text": [
      "means =\n",
      "\n",
      " Columns 1 through 6:\n",
      "\n",
      "   1.8679e-01   1.4839e-02   2.1045e-01   2.0882e-01   7.9658e+01   1.0604e+00\n",
      "\n",
      " Column 7:\n",
      "\n",
      "   9.0846e-03\n",
      "\n",
      "ans = min 0.125 for class 1 is at 642\n",
      "ans = min 0 for class 2 is at 642\n",
      "ans = min 0 for class 3 is at 642\n",
      "ans = min 0 for class 4 is at 642\n",
      "ans = min -5.4538e-09 for class 5 is at 393\n",
      "ans = min -1.214e-07 for class 6 is at 25\n",
      "ans = min -3.26424e-09 for class 7 is at 539\n",
      "ans = max 5.12127 for class 1 is at 186\n",
      "ans = max 25.8229 for class 2 is at 186\n",
      "ans = max 382.139 for class 3 is at 186\n",
      "ans = max 380.858 for class 4 is at 186\n",
      "ans = max 145297 for class 5 is at 186\n",
      "ans = max 1934.12 for class 6 is at 186\n",
      "ans = max 16.5702 for class 7 is at 186\n"
     ]
    }
   ],
   "source": [
    "load train.txt\n",
    "tlab = train(:, 2:end);\n",
    "means = mean(tlab)\n",
    "\n",
    "for i=1:size(tlab,2)\n",
    "sprintf(\"min %d for class %d is at %d\", min(tlab(:, i)), i, find(tlab(:, i)==min(tlab(:, i))))\n",
    "end\n",
    "\n",
    "for i=1:size(tlab,2)\n",
    "sprintf(\"max %d for class %d is at %d\", max(tlab(:, i)), i, find(tlab(:, i)==max(tlab(:, i))))\n",
    "end"
   ]
  },
  {
   "cell_type": "markdown",
   "metadata": {},
   "source": [
    "Usuwam ze zbioru uczącego próbki 642 (wartości skrajnie małe dla większości klas) oraz 186 (wartości skrajnie duże dla większości klas)"
   ]
  },
  {
   "cell_type": "code",
   "execution_count": null,
   "metadata": {},
   "outputs": [],
   "source": []
  }
 ],
 "metadata": {
  "kernelspec": {
   "display_name": "Octave",
   "language": "octave",
   "name": "octave"
  },
  "language_info": {
   "file_extension": ".m",
   "help_links": [
    {
     "text": "GNU Octave",
     "url": "https://www.gnu.org/software/octave/support.html"
    },
    {
     "text": "Octave Kernel",
     "url": "https://github.com/Calysto/octave_kernel"
    },
    {
     "text": "MetaKernel Magics",
     "url": "https://github.com/calysto/metakernel/blob/master/metakernel/magics/README.md"
    }
   ],
   "mimetype": "text/x-octave",
   "name": "octave",
   "version": "4.2.2"
  }
 },
 "nbformat": 4,
 "nbformat_minor": 2
}
