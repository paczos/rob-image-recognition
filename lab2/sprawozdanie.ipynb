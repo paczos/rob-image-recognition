{
 "cells": [
  {
   "cell_type": "markdown",
   "metadata": {},
   "source": [
    "# Eliminacja wartości odstających"
   ]
  },
  {
   "cell_type": "code",
   "execution_count": 56,
   "metadata": {
    "scrolled": true
   },
   "outputs": [
    {
     "name": "stdout",
     "output_type": "stream",
     "text": [
      "means =\n",
      "\n",
      " Columns 1 through 6:\n",
      "\n",
      "   1.8679e-01   1.4839e-02   2.1045e-01   2.0882e-01   7.9658e+01   1.0604e+00\n",
      "\n",
      " Column 7:\n",
      "\n",
      "   9.0846e-03\n",
      "\n",
      "ans = min 0.125 for class 1 is at 642\n",
      "ans = min 0 for class 2 is at 642\n",
      "ans = min 0 for class 3 is at 642\n",
      "ans = min 0 for class 4 is at 642\n",
      "ans = min -5.4538e-09 for class 5 is at 393\n",
      "ans = min -1.214e-07 for class 6 is at 25\n",
      "ans = min -3.26424e-09 for class 7 is at 539\n",
      "ans = max 5.12127 for class 1 is at 186\n",
      "ans = max 25.8229 for class 2 is at 186\n",
      "ans = max 382.139 for class 3 is at 186\n",
      "ans = max 380.858 for class 4 is at 186\n",
      "ans = max 145297 for class 5 is at 186\n",
      "ans = max 1934.12 for class 6 is at 186\n",
      "ans = max 16.5702 for class 7 is at 186\n",
      "means =\n",
      "\n",
      " Columns 1 through 6:\n",
      "\n",
      "   1.8404e-01   6.9109e-04   9.4984e-04   1.5044e-05  -7.5376e-10   2.9695e-07\n",
      "\n",
      " Column 7:\n",
      "\n",
      "  -9.6408e-11\n",
      "\n",
      "ans = min 0.148148 for class 1 is at 186min 642 for class \n",
      "ans = min 3.51422e-09 for class 2 is at 704\n",
      "ans = min 7.53088e-11 for class 3 is at 816\n",
      "ans = min 5.13337e-11 for class 4 is at 1564\n",
      "ans = min -5.16235e-08 for class 5 is at 186\n",
      "ans = min -7.52671e-06 for class 6 is at 186\n",
      "ans = min -3.49468e-09 for class 7 is at 239\n",
      "ans = max 0.206915 for class 1 is at 836\n",
      "ans = max 0.00548697 for class 2 is at 186max 642 for class \n",
      "ans = max 0.00287498 for class 3 is at 108\n",
      "ans = max 0.000121167 for class 4 is at 703\n",
      "ans = max 7.46908e-10 for class 5 is at 79\n",
      "ans = max 3.6699e-06 for class 6 is at 703\n",
      "ans = max 1.40476e-09 for class 7 is at 690\n"
     ]
    }
   ],
   "source": [
    "load train.txt\n",
    "tlab = train(:, 2:end);\n",
    "means = mean(tlab)\n",
    "\n",
    "for i=1:size(tlab,2)\n",
    "sprintf(\"min %d for class %d is at %d\", min(tlab(:, i)), i, find(tlab(:, i)==min(tlab(:, i))))\n",
    "end\n",
    "\n",
    "for i=1:size(tlab,2)\n",
    "sprintf(\"max %d for class %d is at %d\", max(tlab(:, i)), i, find(tlab(:, i)==max(tlab(:, i))))\n",
    "end\n",
    "\n",
    "load test.txt\n",
    "telab = test(:, 2:end);\n",
    "means = mean(telab)\n",
    "\n",
    "for i=1:size(telab,2)\n",
    "sprintf(\"min %d for class %d is at %d\", min(telab(:, i)), i, find(telab(:, i)==min(telab(:, i))))\n",
    "end\n",
    "\n",
    "for i=1:size(telab,2)\n",
    "sprintf(\"max %d for class %d is at %d\", max(telab(:, i)), i, find(telab(:, i)==max(telab(:, i))))\n",
    "end"
   ]
  },
  {
   "cell_type": "markdown",
   "metadata": {},
   "source": [
    "Usuwam ze zbioru uczącego próbki 642 (wartości skrajnie małe dla większości klas) oraz 186 (wartości skrajnie duże dla większości klas)"
   ]
  },
  {
   "cell_type": "code",
   "execution_count": null,
   "metadata": {},
   "outputs": [],
   "source": []
  }
 ],
 "metadata": {
  "kernelspec": {
   "display_name": "Octave",
   "language": "octave",
   "name": "octave"
  },
  "language_info": {
   "file_extension": ".m",
   "help_links": [
    {
     "text": "GNU Octave",
     "url": "https://www.gnu.org/software/octave/support.html"
    },
    {
     "text": "Octave Kernel",
     "url": "https://github.com/Calysto/octave_kernel"
    },
    {
     "text": "MetaKernel Magics",
     "url": "https://github.com/calysto/metakernel/blob/master/metakernel/magics/README.md"
    }
   ],
   "mimetype": "text/x-octave",
   "name": "octave",
   "version": "4.2.2"
  }
 },
 "nbformat": 4,
 "nbformat_minor": 2
}
